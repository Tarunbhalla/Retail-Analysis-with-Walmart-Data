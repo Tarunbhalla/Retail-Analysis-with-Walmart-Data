{
 "cells": [
  {
   "cell_type": "markdown",
   "id": "a5f60852-c892-4c89-b783-346e0980538f",
   "metadata": {},
   "source": [
    "# Retail Analysis with Walmart Data\n"
   ]
  },
  {
   "cell_type": "code",
   "execution_count": 2,
   "id": "952611bb-85ff-4608-9aff-4fe5b8a366b6",
   "metadata": {},
   "outputs": [],
   "source": [
    "import numpy as np\n",
    "import pandas as pd\n",
    "import matplotlib.pyplot as plt\n",
    "import seaborn as sns"
   ]
  },
  {
   "cell_type": "code",
   "execution_count": 3,
   "id": "8071ed5b-133e-4d8d-af5f-4551c916d0a6",
   "metadata": {},
   "outputs": [],
   "source": [
    "data=pd.read_csv('Walmart_Store_sales.csv')"
   ]
  },
  {
   "cell_type": "code",
   "execution_count": 4,
   "id": "37be87e0-9bd0-4dcc-86d9-b766ba2fab04",
   "metadata": {},
   "outputs": [
    {
     "data": {
      "text/html": [
       "<div>\n",
       "<style scoped>\n",
       "    .dataframe tbody tr th:only-of-type {\n",
       "        vertical-align: middle;\n",
       "    }\n",
       "\n",
       "    .dataframe tbody tr th {\n",
       "        vertical-align: top;\n",
       "    }\n",
       "\n",
       "    .dataframe thead th {\n",
       "        text-align: right;\n",
       "    }\n",
       "</style>\n",
       "<table border=\"1\" class=\"dataframe\">\n",
       "  <thead>\n",
       "    <tr style=\"text-align: right;\">\n",
       "      <th></th>\n",
       "      <th>Store</th>\n",
       "      <th>Date</th>\n",
       "      <th>Weekly_Sales</th>\n",
       "      <th>Holiday_Flag</th>\n",
       "      <th>Temperature</th>\n",
       "      <th>Fuel_Price</th>\n",
       "      <th>CPI</th>\n",
       "      <th>Unemployment</th>\n",
       "    </tr>\n",
       "  </thead>\n",
       "  <tbody>\n",
       "    <tr>\n",
       "      <th>0</th>\n",
       "      <td>1</td>\n",
       "      <td>05-02-2010</td>\n",
       "      <td>1643690.90</td>\n",
       "      <td>0</td>\n",
       "      <td>42.31</td>\n",
       "      <td>2.572</td>\n",
       "      <td>211.096358</td>\n",
       "      <td>8.106</td>\n",
       "    </tr>\n",
       "    <tr>\n",
       "      <th>1</th>\n",
       "      <td>1</td>\n",
       "      <td>12-02-2010</td>\n",
       "      <td>1641957.44</td>\n",
       "      <td>1</td>\n",
       "      <td>38.51</td>\n",
       "      <td>2.548</td>\n",
       "      <td>211.242170</td>\n",
       "      <td>8.106</td>\n",
       "    </tr>\n",
       "    <tr>\n",
       "      <th>2</th>\n",
       "      <td>1</td>\n",
       "      <td>19-02-2010</td>\n",
       "      <td>1611968.17</td>\n",
       "      <td>0</td>\n",
       "      <td>39.93</td>\n",
       "      <td>2.514</td>\n",
       "      <td>211.289143</td>\n",
       "      <td>8.106</td>\n",
       "    </tr>\n",
       "    <tr>\n",
       "      <th>3</th>\n",
       "      <td>1</td>\n",
       "      <td>26-02-2010</td>\n",
       "      <td>1409727.59</td>\n",
       "      <td>0</td>\n",
       "      <td>46.63</td>\n",
       "      <td>2.561</td>\n",
       "      <td>211.319643</td>\n",
       "      <td>8.106</td>\n",
       "    </tr>\n",
       "    <tr>\n",
       "      <th>4</th>\n",
       "      <td>1</td>\n",
       "      <td>05-03-2010</td>\n",
       "      <td>1554806.68</td>\n",
       "      <td>0</td>\n",
       "      <td>46.50</td>\n",
       "      <td>2.625</td>\n",
       "      <td>211.350143</td>\n",
       "      <td>8.106</td>\n",
       "    </tr>\n",
       "  </tbody>\n",
       "</table>\n",
       "</div>"
      ],
      "text/plain": [
       "   Store        Date  Weekly_Sales  Holiday_Flag  Temperature  Fuel_Price  \\\n",
       "0      1  05-02-2010    1643690.90             0        42.31       2.572   \n",
       "1      1  12-02-2010    1641957.44             1        38.51       2.548   \n",
       "2      1  19-02-2010    1611968.17             0        39.93       2.514   \n",
       "3      1  26-02-2010    1409727.59             0        46.63       2.561   \n",
       "4      1  05-03-2010    1554806.68             0        46.50       2.625   \n",
       "\n",
       "          CPI  Unemployment  \n",
       "0  211.096358         8.106  \n",
       "1  211.242170         8.106  \n",
       "2  211.289143         8.106  \n",
       "3  211.319643         8.106  \n",
       "4  211.350143         8.106  "
      ]
     },
     "execution_count": 4,
     "metadata": {},
     "output_type": "execute_result"
    }
   ],
   "source": [
    "data.head(5)"
   ]
  },
  {
   "cell_type": "code",
   "execution_count": 5,
   "id": "668de1e1-81b9-43b1-a05a-a4f62148a9de",
   "metadata": {},
   "outputs": [
    {
     "data": {
      "text/html": [
       "<div>\n",
       "<style scoped>\n",
       "    .dataframe tbody tr th:only-of-type {\n",
       "        vertical-align: middle;\n",
       "    }\n",
       "\n",
       "    .dataframe tbody tr th {\n",
       "        vertical-align: top;\n",
       "    }\n",
       "\n",
       "    .dataframe thead th {\n",
       "        text-align: right;\n",
       "    }\n",
       "</style>\n",
       "<table border=\"1\" class=\"dataframe\">\n",
       "  <thead>\n",
       "    <tr style=\"text-align: right;\">\n",
       "      <th></th>\n",
       "      <th>Store</th>\n",
       "      <th>Date</th>\n",
       "      <th>Weekly_Sales</th>\n",
       "      <th>Holiday_Flag</th>\n",
       "      <th>Temperature</th>\n",
       "      <th>Fuel_Price</th>\n",
       "      <th>CPI</th>\n",
       "      <th>Unemployment</th>\n",
       "    </tr>\n",
       "  </thead>\n",
       "  <tbody>\n",
       "    <tr>\n",
       "      <th>6430</th>\n",
       "      <td>45</td>\n",
       "      <td>28-09-2012</td>\n",
       "      <td>713173.95</td>\n",
       "      <td>0</td>\n",
       "      <td>64.88</td>\n",
       "      <td>3.997</td>\n",
       "      <td>192.013558</td>\n",
       "      <td>8.684</td>\n",
       "    </tr>\n",
       "    <tr>\n",
       "      <th>6431</th>\n",
       "      <td>45</td>\n",
       "      <td>05-10-2012</td>\n",
       "      <td>733455.07</td>\n",
       "      <td>0</td>\n",
       "      <td>64.89</td>\n",
       "      <td>3.985</td>\n",
       "      <td>192.170412</td>\n",
       "      <td>8.667</td>\n",
       "    </tr>\n",
       "    <tr>\n",
       "      <th>6432</th>\n",
       "      <td>45</td>\n",
       "      <td>12-10-2012</td>\n",
       "      <td>734464.36</td>\n",
       "      <td>0</td>\n",
       "      <td>54.47</td>\n",
       "      <td>4.000</td>\n",
       "      <td>192.327265</td>\n",
       "      <td>8.667</td>\n",
       "    </tr>\n",
       "    <tr>\n",
       "      <th>6433</th>\n",
       "      <td>45</td>\n",
       "      <td>19-10-2012</td>\n",
       "      <td>718125.53</td>\n",
       "      <td>0</td>\n",
       "      <td>56.47</td>\n",
       "      <td>3.969</td>\n",
       "      <td>192.330854</td>\n",
       "      <td>8.667</td>\n",
       "    </tr>\n",
       "    <tr>\n",
       "      <th>6434</th>\n",
       "      <td>45</td>\n",
       "      <td>26-10-2012</td>\n",
       "      <td>760281.43</td>\n",
       "      <td>0</td>\n",
       "      <td>58.85</td>\n",
       "      <td>3.882</td>\n",
       "      <td>192.308899</td>\n",
       "      <td>8.667</td>\n",
       "    </tr>\n",
       "  </tbody>\n",
       "</table>\n",
       "</div>"
      ],
      "text/plain": [
       "      Store        Date  Weekly_Sales  Holiday_Flag  Temperature  Fuel_Price  \\\n",
       "6430     45  28-09-2012     713173.95             0        64.88       3.997   \n",
       "6431     45  05-10-2012     733455.07             0        64.89       3.985   \n",
       "6432     45  12-10-2012     734464.36             0        54.47       4.000   \n",
       "6433     45  19-10-2012     718125.53             0        56.47       3.969   \n",
       "6434     45  26-10-2012     760281.43             0        58.85       3.882   \n",
       "\n",
       "             CPI  Unemployment  \n",
       "6430  192.013558         8.684  \n",
       "6431  192.170412         8.667  \n",
       "6432  192.327265         8.667  \n",
       "6433  192.330854         8.667  \n",
       "6434  192.308899         8.667  "
      ]
     },
     "execution_count": 5,
     "metadata": {},
     "output_type": "execute_result"
    }
   ],
   "source": [
    "data.tail(5)"
   ]
  },
  {
   "cell_type": "code",
   "execution_count": 6,
   "id": "4d6b0bc0-ee6e-4b98-98e3-cb9398bfc574",
   "metadata": {},
   "outputs": [
    {
     "data": {
      "text/plain": [
       "Store           0\n",
       "Date            0\n",
       "Weekly_Sales    0\n",
       "Holiday_Flag    0\n",
       "Temperature     0\n",
       "Fuel_Price      0\n",
       "CPI             0\n",
       "Unemployment    0\n",
       "dtype: int64"
      ]
     },
     "execution_count": 6,
     "metadata": {},
     "output_type": "execute_result"
    }
   ],
   "source": [
    "data.isna().sum()"
   ]
  },
  {
   "cell_type": "code",
   "execution_count": 7,
   "id": "0ba84df7-2d13-4f92-9c2b-b1585f04dbca",
   "metadata": {},
   "outputs": [
    {
     "data": {
      "text/plain": [
       "(6435, 8)"
      ]
     },
     "execution_count": 7,
     "metadata": {},
     "output_type": "execute_result"
    }
   ],
   "source": [
    "data.shape"
   ]
  },
  {
   "cell_type": "code",
   "execution_count": 8,
   "id": "6d109d99-5fa4-48eb-8997-cf5e1c7cee56",
   "metadata": {},
   "outputs": [
    {
     "name": "stdout",
     "output_type": "stream",
     "text": [
      "<class 'pandas.core.frame.DataFrame'>\n",
      "RangeIndex: 6435 entries, 0 to 6434\n",
      "Data columns (total 8 columns):\n",
      " #   Column        Non-Null Count  Dtype  \n",
      "---  ------        --------------  -----  \n",
      " 0   Store         6435 non-null   int64  \n",
      " 1   Date          6435 non-null   object \n",
      " 2   Weekly_Sales  6435 non-null   float64\n",
      " 3   Holiday_Flag  6435 non-null   int64  \n",
      " 4   Temperature   6435 non-null   float64\n",
      " 5   Fuel_Price    6435 non-null   float64\n",
      " 6   CPI           6435 non-null   float64\n",
      " 7   Unemployment  6435 non-null   float64\n",
      "dtypes: float64(5), int64(2), object(1)\n",
      "memory usage: 402.3+ KB\n"
     ]
    }
   ],
   "source": [
    "data.info()"
   ]
  },
  {
   "cell_type": "code",
   "execution_count": 9,
   "id": "9f3b4653-c760-4c8e-b457-d3ba4cab8756",
   "metadata": {},
   "outputs": [
    {
     "data": {
      "text/plain": [
       "<bound method NDFrame.describe of       Store        Date  Weekly_Sales  Holiday_Flag  Temperature  Fuel_Price  \\\n",
       "0         1  05-02-2010    1643690.90             0        42.31       2.572   \n",
       "1         1  12-02-2010    1641957.44             1        38.51       2.548   \n",
       "2         1  19-02-2010    1611968.17             0        39.93       2.514   \n",
       "3         1  26-02-2010    1409727.59             0        46.63       2.561   \n",
       "4         1  05-03-2010    1554806.68             0        46.50       2.625   \n",
       "...     ...         ...           ...           ...          ...         ...   \n",
       "6430     45  28-09-2012     713173.95             0        64.88       3.997   \n",
       "6431     45  05-10-2012     733455.07             0        64.89       3.985   \n",
       "6432     45  12-10-2012     734464.36             0        54.47       4.000   \n",
       "6433     45  19-10-2012     718125.53             0        56.47       3.969   \n",
       "6434     45  26-10-2012     760281.43             0        58.85       3.882   \n",
       "\n",
       "             CPI  Unemployment  \n",
       "0     211.096358         8.106  \n",
       "1     211.242170         8.106  \n",
       "2     211.289143         8.106  \n",
       "3     211.319643         8.106  \n",
       "4     211.350143         8.106  \n",
       "...          ...           ...  \n",
       "6430  192.013558         8.684  \n",
       "6431  192.170412         8.667  \n",
       "6432  192.327265         8.667  \n",
       "6433  192.330854         8.667  \n",
       "6434  192.308899         8.667  \n",
       "\n",
       "[6435 rows x 8 columns]>"
      ]
     },
     "execution_count": 9,
     "metadata": {},
     "output_type": "execute_result"
    }
   ],
   "source": [
    "data.describe"
   ]
  },
  {
   "cell_type": "code",
   "execution_count": 10,
   "id": "5d28041a-e07c-43e3-8d1f-a927864eb58f",
   "metadata": {},
   "outputs": [],
   "source": [
    "from datetime import datetime\n",
    "data['Date']=pd.to_datetime(data['Date'],format='mixed')"
   ]
  },
  {
   "cell_type": "code",
   "execution_count": 11,
   "id": "6eb650f2-4e04-454f-a27d-df746dce5b82",
   "metadata": {},
   "outputs": [
    {
     "name": "stdout",
     "output_type": "stream",
     "text": [
      "<class 'pandas.core.frame.DataFrame'>\n",
      "RangeIndex: 6435 entries, 0 to 6434\n",
      "Data columns (total 8 columns):\n",
      " #   Column        Non-Null Count  Dtype         \n",
      "---  ------        --------------  -----         \n",
      " 0   Store         6435 non-null   int64         \n",
      " 1   Date          6435 non-null   datetime64[ns]\n",
      " 2   Weekly_Sales  6435 non-null   float64       \n",
      " 3   Holiday_Flag  6435 non-null   int64         \n",
      " 4   Temperature   6435 non-null   float64       \n",
      " 5   Fuel_Price    6435 non-null   float64       \n",
      " 6   CPI           6435 non-null   float64       \n",
      " 7   Unemployment  6435 non-null   float64       \n",
      "dtypes: datetime64[ns](1), float64(5), int64(2)\n",
      "memory usage: 402.3 KB\n"
     ]
    }
   ],
   "source": [
    "data.info()"
   ]
  },
  {
   "cell_type": "markdown",
   "id": "9d6fa491-31e7-4ea5-b144-0f64f222ebdc",
   "metadata": {},
   "source": [
    "## store has maximum sales"
   ]
  },
  {
   "cell_type": "code",
   "execution_count": 13,
   "id": "7a21acb7-a1d4-4819-9489-701081239150",
   "metadata": {},
   "outputs": [],
   "source": [
    "Max_sales = data.groupby('Store')['Weekly_Sales'].sum().round().sort_values(ascending=0)"
   ]
  },
  {
   "cell_type": "code",
   "execution_count": 14,
   "id": "b93092bf-3970-4283-b21f-a4a90737e942",
   "metadata": {},
   "outputs": [
    {
     "data": {
      "text/plain": [
       "Store\n",
       "20    301397792.0\n",
       "4     299543953.0\n",
       "14    288999911.0\n",
       "13    286517704.0\n",
       "2     275382441.0\n",
       "10    271617714.0\n",
       "27    253855917.0\n",
       "6     223756131.0\n",
       "1     222402809.0\n",
       "39    207445542.0\n",
       "19    206634862.0\n",
       "31    199613906.0\n",
       "23    198750618.0\n",
       "24    194016021.0\n",
       "11    193962787.0\n",
       "28    189263681.0\n",
       "41    181341935.0\n",
       "32    166819246.0\n",
       "18    155114734.0\n",
       "22    147075649.0\n",
       "12    144287230.0\n",
       "26    143416394.0\n",
       "34    138249763.0\n",
       "40    137870310.0\n",
       "35    131520672.0\n",
       "8     129951181.0\n",
       "17    127782139.0\n",
       "45    112395341.0\n",
       "21    108117879.0\n",
       "25    101061179.0\n",
       "43     90565435.0\n",
       "15     89133684.0\n",
       "7      81598275.0\n",
       "42     79565752.0\n",
       "9      77789219.0\n",
       "29     77141554.0\n",
       "16     74252425.0\n",
       "37     74202740.0\n",
       "30     62716885.0\n",
       "3      57586735.0\n",
       "38     55159626.0\n",
       "36     53412215.0\n",
       "5      45475689.0\n",
       "44     43293088.0\n",
       "33     37160222.0\n",
       "Name: Weekly_Sales, dtype: float64"
      ]
     },
     "execution_count": 14,
     "metadata": {},
     "output_type": "execute_result"
    }
   ],
   "source": [
    "Max_sales"
   ]
  },
  {
   "cell_type": "code",
   "execution_count": 15,
   "id": "308ddc23-0906-44ac-90de-39a31dbac454",
   "metadata": {},
   "outputs": [
    {
     "data": {
      "text/html": [
       "<div>\n",
       "<style scoped>\n",
       "    .dataframe tbody tr th:only-of-type {\n",
       "        vertical-align: middle;\n",
       "    }\n",
       "\n",
       "    .dataframe tbody tr th {\n",
       "        vertical-align: top;\n",
       "    }\n",
       "\n",
       "    .dataframe thead th {\n",
       "        text-align: right;\n",
       "    }\n",
       "</style>\n",
       "<table border=\"1\" class=\"dataframe\">\n",
       "  <thead>\n",
       "    <tr style=\"text-align: right;\">\n",
       "      <th></th>\n",
       "      <th>Weekly_Sales</th>\n",
       "    </tr>\n",
       "    <tr>\n",
       "      <th>Store</th>\n",
       "      <th></th>\n",
       "    </tr>\n",
       "  </thead>\n",
       "  <tbody>\n",
       "    <tr>\n",
       "      <th>20</th>\n",
       "      <td>301397792.0</td>\n",
       "    </tr>\n",
       "  </tbody>\n",
       "</table>\n",
       "</div>"
      ],
      "text/plain": [
       "       Weekly_Sales\n",
       "Store              \n",
       "20      301397792.0"
      ]
     },
     "execution_count": 15,
     "metadata": {},
     "output_type": "execute_result"
    }
   ],
   "source": [
    "pd.DataFrame(Max_sales).head(1)"
   ]
  },
  {
   "cell_type": "code",
   "execution_count": 16,
   "id": "4bb1553d-38e3-44e6-9821-764dd08576c8",
   "metadata": {},
   "outputs": [
    {
     "data": {
      "text/html": [
       "<div>\n",
       "<style scoped>\n",
       "    .dataframe tbody tr th:only-of-type {\n",
       "        vertical-align: middle;\n",
       "    }\n",
       "\n",
       "    .dataframe tbody tr th {\n",
       "        vertical-align: top;\n",
       "    }\n",
       "\n",
       "    .dataframe thead th {\n",
       "        text-align: right;\n",
       "    }\n",
       "</style>\n",
       "<table border=\"1\" class=\"dataframe\">\n",
       "  <thead>\n",
       "    <tr style=\"text-align: right;\">\n",
       "      <th></th>\n",
       "      <th>Weekly_Sales</th>\n",
       "    </tr>\n",
       "    <tr>\n",
       "      <th>Store</th>\n",
       "      <th></th>\n",
       "    </tr>\n",
       "  </thead>\n",
       "  <tbody>\n",
       "    <tr>\n",
       "      <th>33</th>\n",
       "      <td>37160222.0</td>\n",
       "    </tr>\n",
       "  </tbody>\n",
       "</table>\n",
       "</div>"
      ],
      "text/plain": [
       "       Weekly_Sales\n",
       "Store              \n",
       "33       37160222.0"
      ]
     },
     "execution_count": 16,
     "metadata": {},
     "output_type": "execute_result"
    }
   ],
   "source": [
    "pd.DataFrame(Max_sales).tail(1)"
   ]
  },
  {
   "cell_type": "markdown",
   "id": "14b9e310-818b-4c00-8fae-a1770aedaeb5",
   "metadata": {},
   "source": [
    "#### Observation\n",
    "\n",
    "Store 20 records highest sale of value 301,397,792. And store 33 records lowest sale 37,160,222"
   ]
  },
  {
   "cell_type": "markdown",
   "id": "593b1c62-c1b6-4523-8a0c-ec7bc9eca8ac",
   "metadata": {},
   "source": [
    "## store has maximum standard deviation"
   ]
  },
  {
   "cell_type": "code",
   "execution_count": 19,
   "id": "cef7d34d-5569-4c74-a116-08c4751d711a",
   "metadata": {},
   "outputs": [],
   "source": [
    "Stddv_sales = data.groupby('Store')['Weekly_Sales'].std().round().sort_values(ascending=0)"
   ]
  },
  {
   "cell_type": "code",
   "execution_count": 20,
   "id": "a3fb074d-4e48-4d2b-bf0b-a8f5a3aa551a",
   "metadata": {},
   "outputs": [
    {
     "data": {
      "text/plain": [
       "Store\n",
       "14    317570.0\n",
       "10    302262.0\n",
       "20    275901.0\n",
       "4     266201.0\n",
       "13    265507.0\n",
       "23    249788.0\n",
       "27    239930.0\n",
       "2     237684.0\n",
       "39    217466.0\n",
       "6     212526.0\n",
       "35    211243.0\n",
       "19    191723.0\n",
       "41    187907.0\n",
       "28    181759.0\n",
       "18    176642.0\n",
       "24    167746.0\n",
       "11    165834.0\n",
       "22    161251.0\n",
       "1     155981.0\n",
       "12    139167.0\n",
       "32    138017.0\n",
       "45    130169.0\n",
       "21    128753.0\n",
       "31    125856.0\n",
       "15    120539.0\n",
       "40    119002.0\n",
       "25    112977.0\n",
       "7     112585.0\n",
       "17    112163.0\n",
       "26    110431.0\n",
       "8     106281.0\n",
       "34    104630.0\n",
       "29     99120.0\n",
       "16     85770.0\n",
       "9      69029.0\n",
       "36     60725.0\n",
       "42     50263.0\n",
       "3      46320.0\n",
       "38     42768.0\n",
       "43     40598.0\n",
       "5      37738.0\n",
       "44     24763.0\n",
       "33     24133.0\n",
       "30     22810.0\n",
       "37     21837.0\n",
       "Name: Weekly_Sales, dtype: float64"
      ]
     },
     "execution_count": 20,
     "metadata": {},
     "output_type": "execute_result"
    }
   ],
   "source": [
    "Stddv_sales"
   ]
  },
  {
   "cell_type": "code",
   "execution_count": 21,
   "id": "8fe28be9-841a-4671-9828-36a6826aa92a",
   "metadata": {},
   "outputs": [
    {
     "data": {
      "text/html": [
       "<div>\n",
       "<style scoped>\n",
       "    .dataframe tbody tr th:only-of-type {\n",
       "        vertical-align: middle;\n",
       "    }\n",
       "\n",
       "    .dataframe tbody tr th {\n",
       "        vertical-align: top;\n",
       "    }\n",
       "\n",
       "    .dataframe thead th {\n",
       "        text-align: right;\n",
       "    }\n",
       "</style>\n",
       "<table border=\"1\" class=\"dataframe\">\n",
       "  <thead>\n",
       "    <tr style=\"text-align: right;\">\n",
       "      <th></th>\n",
       "      <th>Weekly_Sales</th>\n",
       "    </tr>\n",
       "    <tr>\n",
       "      <th>Store</th>\n",
       "      <th></th>\n",
       "    </tr>\n",
       "  </thead>\n",
       "  <tbody>\n",
       "    <tr>\n",
       "      <th>14</th>\n",
       "      <td>317570.0</td>\n",
       "    </tr>\n",
       "  </tbody>\n",
       "</table>\n",
       "</div>"
      ],
      "text/plain": [
       "       Weekly_Sales\n",
       "Store              \n",
       "14         317570.0"
      ]
     },
     "execution_count": 21,
     "metadata": {},
     "output_type": "execute_result"
    }
   ],
   "source": [
    "pd.DataFrame(Stddv_sales).head(1)"
   ]
  },
  {
   "cell_type": "code",
   "execution_count": 22,
   "id": "9c094da6-ed72-4867-82e8-27ed72ad4748",
   "metadata": {},
   "outputs": [
    {
     "data": {
      "text/html": [
       "<div>\n",
       "<style scoped>\n",
       "    .dataframe tbody tr th:only-of-type {\n",
       "        vertical-align: middle;\n",
       "    }\n",
       "\n",
       "    .dataframe tbody tr th {\n",
       "        vertical-align: top;\n",
       "    }\n",
       "\n",
       "    .dataframe thead th {\n",
       "        text-align: right;\n",
       "    }\n",
       "</style>\n",
       "<table border=\"1\" class=\"dataframe\">\n",
       "  <thead>\n",
       "    <tr style=\"text-align: right;\">\n",
       "      <th></th>\n",
       "      <th>Weekly_Sales</th>\n",
       "    </tr>\n",
       "    <tr>\n",
       "      <th>Store</th>\n",
       "      <th></th>\n",
       "    </tr>\n",
       "  </thead>\n",
       "  <tbody>\n",
       "    <tr>\n",
       "      <th>37</th>\n",
       "      <td>21837.0</td>\n",
       "    </tr>\n",
       "  </tbody>\n",
       "</table>\n",
       "</div>"
      ],
      "text/plain": [
       "       Weekly_Sales\n",
       "Store              \n",
       "37          21837.0"
      ]
     },
     "execution_count": 22,
     "metadata": {},
     "output_type": "execute_result"
    }
   ],
   "source": [
    "pd.DataFrame(Stddv_sales).tail(1)"
   ]
  },
  {
   "cell_type": "code",
   "execution_count": 51,
   "id": "a8630875-14c3-4ddf-8e6f-589383d585eb",
   "metadata": {},
   "outputs": [],
   "source": [
    "store14 = data[data.Store==14].Weekly_Sales"
   ]
  },
  {
   "cell_type": "code",
   "execution_count": 53,
   "id": "7eef52a9-9669-4b09-81cd-78b8cc51ea59",
   "metadata": {},
   "outputs": [
    {
     "data": {
      "text/plain": [
       "1859    2623469.95\n",
       "1860    1704218.84\n",
       "1861    2204556.70\n",
       "1862    2095591.63\n",
       "1863    2237544.75\n",
       "           ...    \n",
       "1997    1522512.20\n",
       "1998    1687592.16\n",
       "1999    1639585.61\n",
       "2000    1590274.72\n",
       "2001    1704357.62\n",
       "Name: Weekly_Sales, Length: 143, dtype: float64"
      ]
     },
     "execution_count": 53,
     "metadata": {},
     "output_type": "execute_result"
    }
   ],
   "source": [
    "store14"
   ]
  },
  {
   "cell_type": "code",
   "execution_count": 55,
   "id": "1473dde3-9805-4173-a866-63d41fd2438d",
   "metadata": {},
   "outputs": [
    {
     "data": {
      "text/plain": [
       "15.71"
      ]
     },
     "execution_count": 55,
     "metadata": {},
     "output_type": "execute_result"
    }
   ],
   "source": [
    "cv_store14=store14.std()/store14.mean()*100\n",
    "cv_store14.round(2)"
   ]
  },
  {
   "cell_type": "markdown",
   "id": "9a42aaea-90f6-4e09-a0d5-e0359b0b652c",
   "metadata": {},
   "source": [
    "##  store/s has good quarterly growth rate in Q3’2012"
   ]
  },
  {
   "cell_type": "code",
   "execution_count": 58,
   "id": "78864561-5346-4ed7-b0be-054c7313618a",
   "metadata": {},
   "outputs": [],
   "source": [
    "Q2_sales=data[(data['Date']>='2012-04-01')&(data['Date']<='2012-06-30')].groupby('Store')['Weekly_Sales'].sum().round()\n",
    "Q3_sales=data[(data['Date']>='2012-07-01')&(data['Date']<='2012-09-30')].groupby('Store')['Weekly_Sales'].sum().round()"
   ]
  },
  {
   "cell_type": "code",
   "execution_count": 68,
   "id": "5fd5b865-aebf-4b01-9f6d-cd4f69cc284c",
   "metadata": {},
   "outputs": [
    {
     "data": {
      "text/html": [
       "<div>\n",
       "<style scoped>\n",
       "    .dataframe tbody tr th:only-of-type {\n",
       "        vertical-align: middle;\n",
       "    }\n",
       "\n",
       "    .dataframe tbody tr th {\n",
       "        vertical-align: top;\n",
       "    }\n",
       "\n",
       "    .dataframe thead th {\n",
       "        text-align: right;\n",
       "    }\n",
       "</style>\n",
       "<table border=\"1\" class=\"dataframe\">\n",
       "  <thead>\n",
       "    <tr style=\"text-align: right;\">\n",
       "      <th></th>\n",
       "      <th>Q2_sales</th>\n",
       "      <th>Q3_sales</th>\n",
       "      <th>Difference</th>\n",
       "      <th>growth_rate</th>\n",
       "    </tr>\n",
       "    <tr>\n",
       "      <th>Store</th>\n",
       "      <th></th>\n",
       "      <th></th>\n",
       "      <th></th>\n",
       "      <th></th>\n",
       "    </tr>\n",
       "  </thead>\n",
       "  <tbody>\n",
       "    <tr>\n",
       "      <th>16</th>\n",
       "      <td>6626133.0</td>\n",
       "      <td>6441311.0</td>\n",
       "      <td>-184822.0</td>\n",
       "      <td>-2.869323</td>\n",
       "    </tr>\n",
       "    <tr>\n",
       "      <th>7</th>\n",
       "      <td>7613594.0</td>\n",
       "      <td>7322394.0</td>\n",
       "      <td>-291200.0</td>\n",
       "      <td>-3.976841</td>\n",
       "    </tr>\n",
       "    <tr>\n",
       "      <th>35</th>\n",
       "      <td>10753571.0</td>\n",
       "      <td>10252123.0</td>\n",
       "      <td>-501448.0</td>\n",
       "      <td>-4.891163</td>\n",
       "    </tr>\n",
       "    <tr>\n",
       "      <th>26</th>\n",
       "      <td>13218290.0</td>\n",
       "      <td>12417575.0</td>\n",
       "      <td>-800715.0</td>\n",
       "      <td>-6.448240</td>\n",
       "    </tr>\n",
       "    <tr>\n",
       "      <th>39</th>\n",
       "      <td>20191586.0</td>\n",
       "      <td>18899955.0</td>\n",
       "      <td>-1291631.0</td>\n",
       "      <td>-6.834043</td>\n",
       "    </tr>\n",
       "  </tbody>\n",
       "</table>\n",
       "</div>"
      ],
      "text/plain": [
       "         Q2_sales    Q3_sales  Difference  growth_rate\n",
       "Store                                                 \n",
       "16      6626133.0   6441311.0   -184822.0    -2.869323\n",
       "7       7613594.0   7322394.0   -291200.0    -3.976841\n",
       "35     10753571.0  10252123.0   -501448.0    -4.891163\n",
       "26     13218290.0  12417575.0   -800715.0    -6.448240\n",
       "39     20191586.0  18899955.0  -1291631.0    -6.834043"
      ]
     },
     "execution_count": 68,
     "metadata": {},
     "output_type": "execute_result"
    }
   ],
   "source": [
    "pd.DataFrame({'Q2_sales':Q2_sales,'Q3_sales':Q3_sales,'Difference':(Q3_sales-Q2_sales),\n",
    "             'growth_rate':((Q3_sales-Q2_sales)/Q3_sales)*100}).sort_values(by=['growth_rate'], ascending=0).head(5)"
   ]
  },
  {
   "cell_type": "markdown",
   "id": "08dd14a4-a2bd-4fc7-8df3-1a9ef5855066",
   "metadata": {},
   "source": [
    "## holidays which have higher sales than the mean sales in non-holiday season for all stores together"
   ]
  },
  {
   "cell_type": "code",
   "execution_count": 76,
   "id": "e6874979-3d79-4948-9a6b-4dfd99723981",
   "metadata": {},
   "outputs": [],
   "source": [
    "#Holiday Events \n",
    "Super_Bowl= ['12-2-2010', '11-2-2011', '10-2-2012', '8-2-2013']\n",
    "Labour_Day= ['10-9-2010', '9-9-2011', '7-9-2012', '6-9-2013'] \n",
    "Thanksgiving= ['26-11-2010', '25-11-2011', '23-11-2012', '29-11-2013'] \n",
    "Christmas= ['31-12-2010', '30-12-2011', '28-12-2012', '27-11-2013']"
   ]
  },
  {
   "cell_type": "code",
   "execution_count": 78,
   "id": "64336de0-03ee-4058-a12d-a809172bab1d",
   "metadata": {},
   "outputs": [],
   "source": [
    "Super_Bowl_sales=data.loc[data.Date.isin(Super_Bowl)]['Weekly_Sales'].mean().round()\n",
    "Labour_Day_sales=data.loc[data.Date.isin(Labour_Day)]['Weekly_Sales'].mean().round()\n",
    "Thanksgiving_sales=data.loc[data.Date.isin(Thanksgiving)]['Weekly_Sales'].mean().round()\n",
    "Christmas_sales=data.loc[data.Date.isin(Christmas)]['Weekly_Sales'].mean().round()"
   ]
  },
  {
   "cell_type": "code",
   "execution_count": 80,
   "id": "0cdb4444-d09e-45b4-be07-f20880063c3f",
   "metadata": {},
   "outputs": [
    {
     "name": "stdout",
     "output_type": "stream",
     "text": [
      "1079128.0\n",
      "1042427.0\n",
      "1471273.0\n",
      "960833.0\n"
     ]
    }
   ],
   "source": [
    "print(Super_Bowl_sales)\n",
    "print(Labour_Day_sales)\n",
    "print(Thanksgiving_sales)\n",
    "print (Christmas_sales)\n"
   ]
  },
  {
   "cell_type": "code",
   "execution_count": 82,
   "id": "ebfbe974-a4d3-4b57-9af8-9276d1cc85e7",
   "metadata": {},
   "outputs": [
    {
     "data": {
      "text/plain": [
       "1041256.38"
      ]
     },
     "execution_count": 82,
     "metadata": {},
     "output_type": "execute_result"
    }
   ],
   "source": [
    "non_holiday_sales=data[(data['Holiday_Flag']==0)]['Weekly_Sales'].mean().round(2)\n",
    "non_holiday_sales"
   ]
  },
  {
   "cell_type": "code",
   "execution_count": 84,
   "id": "af42e4e5-dd94-4a6c-9b47-50409315ec1a",
   "metadata": {},
   "outputs": [],
   "source": [
    "difference_holidays=pd.DataFrame([{'Super_Bowl_sales':Super_Bowl_sales,\n",
    "                                   'Labour_Day_sales':Labour_Day_sales,\n",
    "                                   'Thanksgiving_sales':Thanksgiving_sales,\n",
    "                                   'Christmas_sales':Christmas_sales,\n",
    "                                   'non_holiday_sales':non_holiday_sales}])"
   ]
  },
  {
   "cell_type": "code",
   "execution_count": 86,
   "id": "929fcd59-5dc9-494e-a93e-4b8e3081e9b2",
   "metadata": {},
   "outputs": [
    {
     "data": {
      "text/html": [
       "<div>\n",
       "<style scoped>\n",
       "    .dataframe tbody tr th:only-of-type {\n",
       "        vertical-align: middle;\n",
       "    }\n",
       "\n",
       "    .dataframe tbody tr th {\n",
       "        vertical-align: top;\n",
       "    }\n",
       "\n",
       "    .dataframe thead th {\n",
       "        text-align: right;\n",
       "    }\n",
       "</style>\n",
       "<table border=\"1\" class=\"dataframe\">\n",
       "  <thead>\n",
       "    <tr style=\"text-align: right;\">\n",
       "      <th></th>\n",
       "      <th>Super_Bowl_sales</th>\n",
       "      <th>Labour_Day_sales</th>\n",
       "      <th>Thanksgiving_sales</th>\n",
       "      <th>Christmas_sales</th>\n",
       "      <th>non_holiday_sales</th>\n",
       "    </tr>\n",
       "  </thead>\n",
       "  <tbody>\n",
       "    <tr>\n",
       "      <th>0</th>\n",
       "      <td>1079128.0</td>\n",
       "      <td>1042427.0</td>\n",
       "      <td>1471273.0</td>\n",
       "      <td>960833.0</td>\n",
       "      <td>1041256.38</td>\n",
       "    </tr>\n",
       "  </tbody>\n",
       "</table>\n",
       "</div>"
      ],
      "text/plain": [
       "   Super_Bowl_sales  Labour_Day_sales  Thanksgiving_sales  Christmas_sales  \\\n",
       "0         1079128.0         1042427.0           1471273.0         960833.0   \n",
       "\n",
       "   non_holiday_sales  \n",
       "0         1041256.38  "
      ]
     },
     "execution_count": 86,
     "metadata": {},
     "output_type": "execute_result"
    }
   ],
   "source": [
    "difference_holidays"
   ]
  },
  {
   "cell_type": "markdown",
   "id": "9092c83c-1a22-4072-b433-f5e13c0a8f7f",
   "metadata": {},
   "source": [
    "## monthly view of sales in units and give insights"
   ]
  },
  {
   "cell_type": "code",
   "execution_count": 88,
   "id": "6dcfbdf3-c161-451b-ae71-4d7a915e3a24",
   "metadata": {},
   "outputs": [],
   "source": [
    "data['Month'] = data['Date'].dt.month\n",
    "data['Year'] = data['Date'].dt.year"
   ]
  },
  {
   "cell_type": "code",
   "execution_count": 92,
   "id": "049fae54-5d3d-4faa-a37d-810c1b610a99",
   "metadata": {},
   "outputs": [],
   "source": [
    "monthly_sales = data.groupby('Month')['Weekly_Sales'].sum().reset_index()"
   ]
  },
  {
   "cell_type": "code",
   "execution_count": 94,
   "id": "8eeb4d5a-bb6e-4b36-a306-69b8e8b38c60",
   "metadata": {},
   "outputs": [
    {
     "data": {
      "image/png": "[encoded data removed]",
      "text/plain": [
       "<Figure size 1000x600 with 1 Axes>"
      ]
     },
     "metadata": {},
     "output_type": "display_data"
    }
   ],
   "source": [
    "plt.figure(figsize=(10, 6))\n",
    "plt.bar(monthly_sales['Month'], monthly_sales['Weekly_Sales'])\n",
    "plt.xlabel('Month')\n",
    "plt.ylabel('Weekly Sales')\n",
    "plt.title('Monthly Sales')\n",
    "plt.show()"
   ]
  },
  {
   "cell_type": "markdown",
   "id": "a3006aeb-fda5-4bc6-b1f8-d055394bced2",
   "metadata": {},
   "source": [
    "## Semester view of sales in units and give insights"
   ]
  },
  {
   "cell_type": "code",
   "execution_count": 102,
   "id": "4a01c6f6-afea-431f-bcd7-621f896fc877",
   "metadata": {},
   "outputs": [],
   "source": [
    "# Group the data by Semester and calculate the total sales\n",
    "semester1_sales = data[data['Month'].isin([1, 2, 3, 4, 5, 6])]['Weekly_Sales'].sum()\n",
    "semester2_sales = data[data['Month'].isin([7, 8, 9, 10, 11, 12])]['Weekly_Sales'].sum()"
   ]
  },
  {
   "cell_type": "code",
   "execution_count": 106,
   "id": "358f4253-b2d6-4f22-9b25-74bf61979f03",
   "metadata": {},
   "outputs": [
    {
     "data": {
      "image/png": "[encoded data removed]",
      "text/plain": [
       "<Figure size 800x600 with 1 Axes>"
      ]
     },
     "metadata": {},
     "output_type": "display_data"
    }
   ],
   "source": [
    "plt.figure(figsize=(8, 6))\n",
    "plt.pie([semester1_sales, semester2_sales], labels=['semester1 (Jan-Jun)', 'semester2 (Jul-Dec)'], autopct='%1.1f%%')\n",
    "plt.title('Semester Sales')\n",
    "plt.show()"
   ]
  },
  {
   "cell_type": "markdown",
   "id": "afc5ce92-8952-4a80-a923-2ea7ae9647f8",
   "metadata": {},
   "source": [
    "## Build  prediction models to forecast demand"
   ]
  },
  {
   "cell_type": "code",
   "execution_count": 110,
   "id": "e19237ff-80e6-4dde-81f7-2fa0b7e3c97b",
   "metadata": {},
   "outputs": [],
   "source": [
    "import statsmodels.formula.api as sm\n",
    "model=sm.ols(formula='Weekly_Sales~CPI+Fuel_Price+Unemployment',data=data).fit()"
   ]
  },
  {
   "cell_type": "code",
   "execution_count": 112,
   "id": "2cb4d8ce-b05f-4c50-8928-6b57fc52eecf",
   "metadata": {},
   "outputs": [
    {
     "data": {
      "text/html": [
       "<table class=\"simpletable\">\n",
       "<caption>OLS Regression Results</caption>\n",
       "<tr>\n",
       "  <th>Dep. Variable:</th>      <td>Weekly_Sales</td>   <th>  R-squared:         </th> <td>   0.024</td> \n",
       "</tr>\n",
       "<tr>\n",
       "  <th>Model:</th>                   <td>OLS</td>       <th>  Adj. R-squared:    </th> <td>   0.023</td> \n",
       "</tr>\n",
       "<tr>\n",
       "  <th>Method:</th>             <td>Least Squares</td>  <th>  F-statistic:       </th> <td>   51.75</td> \n",
       "</tr>\n",
       "<tr>\n",
       "  <th>Date:</th>             <td>Tue, 30 Jul 2024</td> <th>  Prob (F-statistic):</th> <td>4.81e-33</td> \n",
       "</tr>\n",
       "<tr>\n",
       "  <th>Time:</th>                 <td>09:12:00</td>     <th>  Log-Likelihood:    </th> <td> -94275.</td> \n",
       "</tr>\n",
       "<tr>\n",
       "  <th>No. Observations:</th>      <td>  6435</td>      <th>  AIC:               </th> <td>1.886e+05</td>\n",
       "</tr>\n",
       "<tr>\n",
       "  <th>Df Residuals:</th>          <td>  6431</td>      <th>  BIC:               </th> <td>1.886e+05</td>\n",
       "</tr>\n",
       "<tr>\n",
       "  <th>Df Model:</th>              <td>     3</td>      <th>                     </th>     <td> </td>    \n",
       "</tr>\n",
       "<tr>\n",
       "  <th>Covariance Type:</th>      <td>nonrobust</td>    <th>                     </th>     <td> </td>    \n",
       "</tr>\n",
       "</table>\n",
       "<table class=\"simpletable\">\n",
       "<tr>\n",
       "        <td></td>          <th>coef</th>     <th>std err</th>      <th>t</th>      <th>P>|t|</th>  <th>[0.025</th>    <th>0.975]</th>  \n",
       "</tr>\n",
       "<tr>\n",
       "  <th>Intercept</th>    <td> 1.746e+06</td> <td> 7.96e+04</td> <td>   21.938</td> <td> 0.000</td> <td> 1.59e+06</td> <td>  1.9e+06</td>\n",
       "</tr>\n",
       "<tr>\n",
       "  <th>CPI</th>          <td>-1696.8760</td> <td>  188.793</td> <td>   -8.988</td> <td> 0.000</td> <td>-2066.973</td> <td>-1326.779</td>\n",
       "</tr>\n",
       "<tr>\n",
       "  <th>Fuel_Price</th>   <td>-1.927e+04</td> <td> 1.54e+04</td> <td>   -1.248</td> <td> 0.212</td> <td>-4.95e+04</td> <td>  1.1e+04</td>\n",
       "</tr>\n",
       "<tr>\n",
       "  <th>Unemployment</th> <td>-4.286e+04</td> <td> 3905.197</td> <td>  -10.975</td> <td> 0.000</td> <td>-5.05e+04</td> <td>-3.52e+04</td>\n",
       "</tr>\n",
       "</table>\n",
       "<table class=\"simpletable\">\n",
       "<tr>\n",
       "  <th>Omnibus:</th>       <td>370.117</td> <th>  Durbin-Watson:     </th> <td>   0.112</td>\n",
       "</tr>\n",
       "<tr>\n",
       "  <th>Prob(Omnibus):</th> <td> 0.000</td>  <th>  Jarque-Bera (JB):  </th> <td> 436.792</td>\n",
       "</tr>\n",
       "<tr>\n",
       "  <th>Skew:</th>          <td> 0.638</td>  <th>  Prob(JB):          </th> <td>1.42e-95</td>\n",
       "</tr>\n",
       "<tr>\n",
       "  <th>Kurtosis:</th>      <td> 3.051</td>  <th>  Cond. No.          </th> <td>2.04e+03</td>\n",
       "</tr>\n",
       "</table><br/><br/>Notes:<br/>[1] Standard Errors assume that the covariance matrix of the errors is correctly specified.<br/>[2] The condition number is large, 2.04e+03. This might indicate that there are<br/>strong multicollinearity or other numerical problems."
      ],
      "text/latex": [
       "\\begin{center}\n",
       "\\begin{tabular}{lclc}\n",
       "\\toprule\n",
       "\\textbf{Dep. Variable:}    &  Weekly\\_Sales   & \\textbf{  R-squared:         } &     0.024   \\\\\n",
       "\\textbf{Model:}            &       OLS        & \\textbf{  Adj. R-squared:    } &     0.023   \\\\\n",
       "\\textbf{Method:}           &  Least Squares   & \\textbf{  F-statistic:       } &     51.75   \\\\\n",
       "\\textbf{Date:}             & Tue, 30 Jul 2024 & \\textbf{  Prob (F-statistic):} &  4.81e-33   \\\\\n",
       "\\textbf{Time:}             &     09:12:00     & \\textbf{  Log-Likelihood:    } &   -94275.   \\\\\n",
       "\\textbf{No. Observations:} &        6435      & \\textbf{  AIC:               } & 1.886e+05   \\\\\n",
       "\\textbf{Df Residuals:}     &        6431      & \\textbf{  BIC:               } & 1.886e+05   \\\\\n",
       "\\textbf{Df Model:}         &           3      & \\textbf{                     } &             \\\\\n",
       "\\textbf{Covariance Type:}  &    nonrobust     & \\textbf{                     } &             \\\\\n",
       "\\bottomrule\n",
       "\\end{tabular}\n",
       "\\begin{tabular}{lcccccc}\n",
       "                      & \\textbf{coef} & \\textbf{std err} & \\textbf{t} & \\textbf{P$> |$t$|$} & \\textbf{[0.025} & \\textbf{0.975]}  \\\\\n",
       "\\midrule\n",
       "\\textbf{Intercept}    &    1.746e+06  &     7.96e+04     &    21.938  &         0.000        &     1.59e+06    &      1.9e+06     \\\\\n",
       "\\textbf{CPI}          &   -1696.8760  &      188.793     &    -8.988  &         0.000        &    -2066.973    &    -1326.779     \\\\\n",
       "\\textbf{Fuel\\_Price}  &   -1.927e+04  &     1.54e+04     &    -1.248  &         0.212        &    -4.95e+04    &      1.1e+04     \\\\\n",
       "\\textbf{Unemployment} &   -4.286e+04  &     3905.197     &   -10.975  &         0.000        &    -5.05e+04    &    -3.52e+04     \\\\\n",
       "\\bottomrule\n",
       "\\end{tabular}\n",
       "\\begin{tabular}{lclc}\n",
       "\\textbf{Omnibus:}       & 370.117 & \\textbf{  Durbin-Watson:     } &    0.112  \\\\\n",
       "\\textbf{Prob(Omnibus):} &   0.000 & \\textbf{  Jarque-Bera (JB):  } &  436.792  \\\\\n",
       "\\textbf{Skew:}          &   0.638 & \\textbf{  Prob(JB):          } & 1.42e-95  \\\\\n",
       "\\textbf{Kurtosis:}      &   3.051 & \\textbf{  Cond. No.          } & 2.04e+03  \\\\\n",
       "\\bottomrule\n",
       "\\end{tabular}\n",
       "%\\caption{OLS Regression Results}\n",
       "\\end{center}\n",
       "\n",
       "Notes: \\newline\n",
       " [1] Standard Errors assume that the covariance matrix of the errors is correctly specified. \\newline\n",
       " [2] The condition number is large, 2.04e+03. This might indicate that there are \\newline\n",
       " strong multicollinearity or other numerical problems."
      ],
      "text/plain": [
       "<class 'statsmodels.iolib.summary.Summary'>\n",
       "\"\"\"\n",
       "                            OLS Regression Results                            \n",
       "==============================================================================\n",
       "Dep. Variable:           Weekly_Sales   R-squared:                       0.024\n",
       "Model:                            OLS   Adj. R-squared:                  0.023\n",
       "Method:                 Least Squares   F-statistic:                     51.75\n",
       "Date:                Tue, 30 Jul 2024   Prob (F-statistic):           4.81e-33\n",
       "Time:                        09:12:00   Log-Likelihood:                -94275.\n",
       "No. Observations:                6435   AIC:                         1.886e+05\n",
       "Df Residuals:                    6431   BIC:                         1.886e+05\n",
       "Df Model:                           3                                         \n",
       "Covariance Type:            nonrobust                                         \n",
       "================================================================================\n",
       "                   coef    std err          t      P>|t|      [0.025      0.975]\n",
       "--------------------------------------------------------------------------------\n",
       "Intercept     1.746e+06   7.96e+04     21.938      0.000    1.59e+06     1.9e+06\n",
       "CPI          -1696.8760    188.793     -8.988      0.000   -2066.973   -1326.779\n",
       "Fuel_Price   -1.927e+04   1.54e+04     -1.248      0.212   -4.95e+04     1.1e+04\n",
       "Unemployment -4.286e+04   3905.197    -10.975      0.000   -5.05e+04   -3.52e+04\n",
       "==============================================================================\n",
       "Omnibus:                      370.117   Durbin-Watson:                   0.112\n",
       "Prob(Omnibus):                  0.000   Jarque-Bera (JB):              436.792\n",
       "Skew:                           0.638   Prob(JB):                     1.42e-95\n",
       "Kurtosis:                       3.051   Cond. No.                     2.04e+03\n",
       "==============================================================================\n",
       "\n",
       "Notes:\n",
       "[1] Standard Errors assume that the covariance matrix of the errors is correctly specified.\n",
       "[2] The condition number is large, 2.04e+03. This might indicate that there are\n",
       "strong multicollinearity or other numerical problems.\n",
       "\"\"\""
      ]
     },
     "execution_count": 112,
     "metadata": {},
     "output_type": "execute_result"
    }
   ],
   "source": [
    "model.summary()"
   ]
  },
  {
   "cell_type": "code",
   "execution_count": null,
   "id": "6bd7d992-323b-4455-838e-b2fd08560b6c",
   "metadata": {},
   "outputs": [],
   "source": []
  }
 ],
 "metadata": {
  "kernelspec": {
   "display_name": "Python 3 (ipykernel)",
   "language": "python",
   "name": "python3"
  },
  "language_info": {
   "codemirror_mode": {
    "name": "ipython",
    "version": 3
   },
   "file_extension": ".py",
   "mimetype": "text/x-python",
   "name": "python",
   "nbconvert_exporter": "python",
   "pygments_lexer": "ipython3",
   "version": "3.11.7"
  }
 },
 "nbformat": 4,
 "nbformat_minor": 5
}
